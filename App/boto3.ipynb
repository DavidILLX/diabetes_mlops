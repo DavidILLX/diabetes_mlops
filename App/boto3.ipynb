{
 "cells": [
  {
   "cell_type": "code",
   "execution_count": 1,
   "id": "a77c7d9b",
   "metadata": {},
   "outputs": [],
   "source": [
    "import os\n",
    "import logging\n",
    "import pandas as pd\n",
    "import boto3\n",
    "import tempfile\n",
    "import xgboost as xgb\n",
    "from io import BytesIO\n",
    "\n",
    "from dotenv import load_dotenv\n",
    "from pathlib import Path"
   ]
  },
  {
   "cell_type": "code",
   "execution_count": 4,
   "id": "19e19c80",
   "metadata": {},
   "outputs": [],
   "source": [
    "load_dotenv()\n",
    "\n",
    "aws_access_key_id = os.getenv('AWS_ACCESS_KEY_ID')\n",
    "aws_secret_access_key = os.getenv('AWS_SECRET_ACCESS_KEY')\n",
    "aws_region = os.getenv('AWS_REGION')\n",
    "\n",
    "s3 = boto3.client(\n",
    "    service_name='s3',\n",
    "    aws_access_key_id=aws_access_key_id,\n",
    "    aws_secret_access_key=aws_secret_access_key,\n",
    "    region_name=aws_region\n",
    ")"
   ]
  },
  {
   "cell_type": "code",
   "execution_count": 8,
   "id": "2740829a",
   "metadata": {},
   "outputs": [],
   "source": [
    "bucket = 'mlflow-bucket-diabetes'\n",
    "\n",
    "response = s3.list_objects_v2(Bucket=bucket)"
   ]
  },
  {
   "cell_type": "code",
   "execution_count": 9,
   "id": "9eeb76aa",
   "metadata": {},
   "outputs": [
    {
     "data": {
      "text/plain": [
       "{'ResponseMetadata': {'RequestId': 'CR7HK3K1JPHXD79R',\n",
       "  'HostId': 'yzyspXW1tyo+ONVokR/7AxnWKTC6tJor3d06d8GziHFsBjdxC4/tRTAS/68KHp4jMO5doN00z/1yX62sM8tlLJ+WFEcsaQgT',\n",
       "  'HTTPStatusCode': 200,\n",
       "  'HTTPHeaders': {'x-amz-id-2': 'yzyspXW1tyo+ONVokR/7AxnWKTC6tJor3d06d8GziHFsBjdxC4/tRTAS/68KHp4jMO5doN00z/1yX62sM8tlLJ+WFEcsaQgT',\n",
       "   'x-amz-request-id': 'CR7HK3K1JPHXD79R',\n",
       "   'date': 'Thu, 17 Jul 2025 15:20:20 GMT',\n",
       "   'x-amz-bucket-region': 'eu-north-1',\n",
       "   'content-type': 'application/xml',\n",
       "   'transfer-encoding': 'chunked',\n",
       "   'server': 'AmazonS3'},\n",
       "  'RetryAttempts': 0},\n",
       " 'IsTruncated': False,\n",
       " 'Contents': [{'Key': '2/',\n",
       "   'LastModified': datetime.datetime(2025, 7, 17, 15, 8, 8, tzinfo=tzutc()),\n",
       "   'ETag': '\"d41d8cd98f00b204e9800998ecf8427e\"',\n",
       "   'ChecksumAlgorithm': ['CRC64NVME'],\n",
       "   'ChecksumType': 'FULL_OBJECT',\n",
       "   'Size': 0,\n",
       "   'StorageClass': 'STANDARD'},\n",
       "  {'Key': '2/6/',\n",
       "   'LastModified': datetime.datetime(2025, 7, 17, 15, 8, 15, tzinfo=tzutc()),\n",
       "   'ETag': '\"d41d8cd98f00b204e9800998ecf8427e\"',\n",
       "   'ChecksumAlgorithm': ['CRC64NVME'],\n",
       "   'ChecksumType': 'FULL_OBJECT',\n",
       "   'Size': 0,\n",
       "   'StorageClass': 'STANDARD'},\n",
       "  {'Key': '2/6/y_train.parquet',\n",
       "   'LastModified': datetime.datetime(2025, 7, 17, 15, 8, 48, tzinfo=tzutc()),\n",
       "   'ETag': '\"fed0c901622417866724a53de008090f\"',\n",
       "   'ChecksumAlgorithm': ['CRC64NVME'],\n",
       "   'ChecksumType': 'FULL_OBJECT',\n",
       "   'Size': 1360,\n",
       "   'StorageClass': 'STANDARD'}],\n",
       " 'Name': 'mlflow-bucket-diabetes',\n",
       " 'Prefix': '',\n",
       " 'MaxKeys': 1000,\n",
       " 'EncodingType': 'url',\n",
       " 'KeyCount': 3}"
      ]
     },
     "execution_count": 9,
     "metadata": {},
     "output_type": "execute_result"
    }
   ],
   "source": [
    "response"
   ]
  },
  {
   "cell_type": "code",
   "execution_count": 12,
   "id": "ed3716c4",
   "metadata": {},
   "outputs": [
    {
     "data": {
      "text/plain": [
       "[{'Key': '2/',\n",
       "  'LastModified': datetime.datetime(2025, 7, 17, 15, 8, 8, tzinfo=tzutc()),\n",
       "  'ETag': '\"d41d8cd98f00b204e9800998ecf8427e\"',\n",
       "  'ChecksumAlgorithm': ['CRC64NVME'],\n",
       "  'ChecksumType': 'FULL_OBJECT',\n",
       "  'Size': 0,\n",
       "  'StorageClass': 'STANDARD'},\n",
       " {'Key': '2/6/',\n",
       "  'LastModified': datetime.datetime(2025, 7, 17, 15, 8, 15, tzinfo=tzutc()),\n",
       "  'ETag': '\"d41d8cd98f00b204e9800998ecf8427e\"',\n",
       "  'ChecksumAlgorithm': ['CRC64NVME'],\n",
       "  'ChecksumType': 'FULL_OBJECT',\n",
       "  'Size': 0,\n",
       "  'StorageClass': 'STANDARD'},\n",
       " {'Key': '2/6/y_train.parquet',\n",
       "  'LastModified': datetime.datetime(2025, 7, 17, 15, 8, 48, tzinfo=tzutc()),\n",
       "  'ETag': '\"fed0c901622417866724a53de008090f\"',\n",
       "  'ChecksumAlgorithm': ['CRC64NVME'],\n",
       "  'ChecksumType': 'FULL_OBJECT',\n",
       "  'Size': 1360,\n",
       "  'StorageClass': 'STANDARD'}]"
      ]
     },
     "execution_count": 12,
     "metadata": {},
     "output_type": "execute_result"
    }
   ],
   "source": [
    "response['Contents']"
   ]
  },
  {
   "cell_type": "code",
   "execution_count": 14,
   "id": "fbb5ed9a",
   "metadata": {},
   "outputs": [],
   "source": [
    "last_modified = sorted(response['Contents'], key=lambda obj: obj['LastModified'], reverse=True)"
   ]
  },
  {
   "cell_type": "code",
   "execution_count": 17,
   "id": "2ad2c9d6",
   "metadata": {},
   "outputs": [
    {
     "data": {
      "text/plain": [
       "'2/6/y_train.parquet'"
      ]
     },
     "execution_count": 17,
     "metadata": {},
     "output_type": "execute_result"
    }
   ],
   "source": [
    "last_modified[0]['Key']"
   ]
  },
  {
   "cell_type": "code",
   "execution_count": null,
   "id": "e19a7c00",
   "metadata": {},
   "outputs": [],
   "source": []
  }
 ],
 "metadata": {
  "kernelspec": {
   "display_name": "Python 3",
   "language": "python",
   "name": "python3"
  },
  "language_info": {
   "codemirror_mode": {
    "name": "ipython",
    "version": 3
   },
   "file_extension": ".py",
   "mimetype": "text/x-python",
   "name": "python",
   "nbconvert_exporter": "python",
   "pygments_lexer": "ipython3",
   "version": "3.12.10"
  }
 },
 "nbformat": 4,
 "nbformat_minor": 5
}
