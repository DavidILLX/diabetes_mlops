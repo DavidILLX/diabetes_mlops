{
 "cells": [
  {
   "cell_type": "code",
   "execution_count": 19,
   "id": "12644621",
   "metadata": {},
   "outputs": [],
   "source": [
    "import datetime\n",
    "import time\n",
    "import random\n",
    "import logging \n",
    "import uuid\n",
    "import pytz\n",
    "import pandas as pd\n",
    "import io\n",
    "import psycopg2\n",
    "import joblib\n",
    "\n",
    "from prefect import task, flow\n",
    "\n",
    "from evidently import DataDefinition\n",
    "from evidently import Dataset\n",
    "from evidently import Report\n",
    "from evidently.metrics import ValueDrift, DriftedColumnsCount, MissingValueCount, MeanValue"
   ]
  },
  {
   "cell_type": "code",
   "execution_count": null,
   "id": "ce57d746",
   "metadata": {},
   "outputs": [],
   "source": []
  }
 ],
 "metadata": {
  "kernelspec": {
   "display_name": "Python 3",
   "language": "python",
   "name": "python3"
  },
  "language_info": {
   "codemirror_mode": {
    "name": "ipython",
    "version": 3
   },
   "file_extension": ".py",
   "mimetype": "text/x-python",
   "name": "python",
   "nbconvert_exporter": "python",
   "pygments_lexer": "ipython3",
   "version": "3.12.10"
  }
 },
 "nbformat": 4,
 "nbformat_minor": 5
}
