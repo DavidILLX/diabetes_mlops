{
 "cells": [
  {
   "cell_type": "code",
   "execution_count": 19,
   "id": "12644621",
   "metadata": {},
   "outputs": [],
   "source": [
    "import datetime\n",
    "import time\n",
    "import random\n",
    "import logging \n",
    "import uuid\n",
    "import pytz\n",
    "import xgboost as xgb\n",
    "import mlflow\n",
    "from mlflow.tracking import MlflowClient\n",
    "import pandas as pd\n",
    "from pathlib import Path\n",
    "import io\n",
    "import psycopg2\n",
    "import joblib\n",
    "\n",
    "from prefect import task, flow\n",
    "\n",
    "from evidently import DataDefinition\n",
    "from evidently import Dataset\n",
    "from evidently import Report\n",
    "from evidently.metrics import ValueDrift, DriftedColumnsCount, MissingValueCount, MeanValue"
   ]
  },
  {
   "cell_type": "code",
   "execution_count": 4,
   "id": "ce57d746",
   "metadata": {},
   "outputs": [],
   "source": [
    "mlflow.set_tracking_uri('http://127.0.0.1:5000')\n",
    "mlflow.set_registry_uri(\"http://127.0.0.1:5000\")\n",
    "client = MlflowClient()"
   ]
  },
  {
   "cell_type": "code",
   "execution_count": 5,
   "id": "e44fd44e",
   "metadata": {},
   "outputs": [],
   "source": [
    "experiment_id = mlflow.search_experiments()"
   ]
  },
  {
   "cell_type": "code",
   "execution_count": 6,
   "id": "2ae0a543",
   "metadata": {},
   "outputs": [],
   "source": [
    "experiment_id = experiment_id[0].experiment_id"
   ]
  },
  {
   "cell_type": "code",
   "execution_count": 7,
   "id": "680e2a24",
   "metadata": {},
   "outputs": [],
   "source": [
    "runs = client.search_runs(experiment_ids=[experiment_id],\n",
    "                          order_by=[\"attributes.start_time DESC\"],\n",
    "                          max_results=1,\n",
    "                          )"
   ]
  },
  {
   "cell_type": "code",
   "execution_count": 8,
   "id": "9ad5c30f",
   "metadata": {},
   "outputs": [
    {
     "name": "stdout",
     "output_type": "stream",
     "text": [
      "[<Run: data=<RunData: metrics={'accuracy': 0.7451198360138758,\n",
      " 'f1_macro': 0.6590965741985501,\n",
      " 'recall': 0.7553620052025181}, params={'colsample_bytree': '0.9037606820704156',\n",
      " 'learning_rate': '0.16948001803464147',\n",
      " 'max_depth': '10',\n",
      " 'min_child_weight': '3.7145844057785355',\n",
      " 'objective': 'binary:logistic',\n",
      " 'reg_alpha': '0.0027043399092797397',\n",
      " 'reg_lambda': '0.2980736088238208',\n",
      " 'seed': '42',\n",
      " 'subsample': '0.7829818614204808'}, tags={'Model': 'XGBoost',\n",
      " 'ModelURI': 'runs:/d342904422db451eb38adcf9d61b4001/model',\n",
      " 'Stage': 'Final_model',\n",
      " 'mlflow.log-model.history': '[{\"run_id\": \"d342904422db451eb38adcf9d61b4001\", '\n",
      "                             '\"artifact_path\": \"model\", \"utc_time_created\": '\n",
      "                             '\"2025-07-09 18:03:21.751766\", \"flavors\": '\n",
      "                             '{\"python_function\": {\"loader_module\": '\n",
      "                             '\"mlflow.xgboost\", \"python_version\": \"3.10.13\", '\n",
      "                             '\"data\": \"model.xgb\", \"env\": {\"conda\": '\n",
      "                             '\"conda.yaml\", \"virtualenv\": \"python_env.yaml\"}}, '\n",
      "                             '\"xgboost\": {\"xgb_version\": \"2.0.3\", \"data\": '\n",
      "                             '\"model.xgb\", \"model_class\": '\n",
      "                             '\"xgboost.core.Booster\", \"model_format\": \"xgb\", '\n",
      "                             '\"code\": null}}, \"model_uuid\": '\n",
      "                             '\"54d8e56ec08a4d98a0c78518483dfcbf\", '\n",
      "                             '\"mlflow_version\": \"2.12.1\", \"model_size_bytes\": '\n",
      "                             '2334541}]',\n",
      " 'mlflow.runName': 'sassy-vole-512',\n",
      " 'mlflow.source.name': '/app/Model/register_model.py',\n",
      " 'mlflow.source.type': 'LOCAL',\n",
      " 'mlflow.user': 'airflow'}>, info=<RunInfo: artifact_uri='mlflow-artifacts:/18/d342904422db451eb38adcf9d61b4001/artifacts', end_time=1752084206164, experiment_id='18', lifecycle_stage='active', run_id='d342904422db451eb38adcf9d61b4001', run_name='sassy-vole-512', start_time=1752084198191, status='FINISHED', user_id='airflow'>, inputs=<RunInputs: dataset_inputs=[], model_inputs=[]>, outputs=<RunOutputs: model_outputs=[]>>]\n"
     ]
    }
   ],
   "source": [
    "print(runs)"
   ]
  },
  {
   "cell_type": "code",
   "execution_count": 9,
   "id": "22b5dbee",
   "metadata": {},
   "outputs": [
    {
     "name": "stdout",
     "output_type": "stream",
     "text": [
      "sassy-vole-512\n",
      "d342904422db451eb38adcf9d61b4001\n",
      "mlflow-artifacts:/18/d342904422db451eb38adcf9d61b4001/artifacts\n",
      "runs:/d342904422db451eb38adcf9d61b4001/model\n"
     ]
    }
   ],
   "source": [
    "run_name = runs[0].info.run_name\n",
    "run_id = runs[0].info.run_id\n",
    "run_artifacts_id = runs[0].info.artifact_uri\n",
    "model_uri =runs[0].data.tags['ModelURI']\n",
    "print(run_name)\n",
    "print(run_id)\n",
    "print(run_artifacts_id)\n",
    "print(model_uri)"
   ]
  },
  {
   "cell_type": "code",
   "execution_count": 10,
   "id": "39fc34a2",
   "metadata": {},
   "outputs": [
    {
     "name": "stdout",
     "output_type": "stream",
     "text": [
      "3.1.1\n"
     ]
    }
   ],
   "source": [
    "print(mlflow.__version__)"
   ]
  },
  {
   "cell_type": "code",
   "execution_count": 18,
   "id": "afceccf9",
   "metadata": {},
   "outputs": [],
   "source": [
    "model = xgb.Booster()\n",
    "model.load_model(\"../artifacts/model.xgb\")"
   ]
  },
  {
   "cell_type": "code",
   "execution_count": 22,
   "id": "76cfc55d",
   "metadata": {},
   "outputs": [],
   "source": [
    "input_dir = Path('../Data')\n",
    "\n",
    "reference_data_X = pd.read_parquet(input_dir / f\"X_test.parquet\")\n",
    "reference_data_y = pd.read_parquet(input_dir / f\"y_test.parquet\")\n"
   ]
  },
  {
   "cell_type": "code",
   "execution_count": null,
   "id": "e7f6ecf5",
   "metadata": {},
   "outputs": [],
   "source": []
  },
  {
   "cell_type": "code",
   "execution_count": null,
   "id": "caaf200b",
   "metadata": {},
   "outputs": [],
   "source": [
    "report = Report(metrics=[DataDriftPreset()])\n",
    "report.run(reference_data=reference_data, current_data=current_data)\n",
    "report.save_html(\"drift_report.html\")"
   ]
  }
 ],
 "metadata": {
  "kernelspec": {
   "display_name": "Python 3",
   "language": "python",
   "name": "python3"
  },
  "language_info": {
   "codemirror_mode": {
    "name": "ipython",
    "version": 3
   },
   "file_extension": ".py",
   "mimetype": "text/x-python",
   "name": "python",
   "nbconvert_exporter": "python",
   "pygments_lexer": "ipython3",
   "version": "3.12.10"
  }
 },
 "nbformat": 4,
 "nbformat_minor": 5
}
