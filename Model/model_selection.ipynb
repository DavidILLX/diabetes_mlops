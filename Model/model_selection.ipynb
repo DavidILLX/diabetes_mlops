{
 "cells": [
  {
   "cell_type": "code",
   "execution_count": 1,
   "id": "c8464766",
   "metadata": {},
   "outputs": [],
   "source": [
    "import mlflow\n",
    "import logging\n",
    "import pandas as pd\n",
    "from mlflow.tracking import MlflowClient\n",
    "from mlflow.entities import ViewType\n",
    "from pathlib import Path\n",
    "from sklearn.metrics import f1_score, accuracy_score, recall_score, classification_report\n",
    "from catboost import CatBoostClassifier\n",
    "from sklearn.ensemble import RandomForestClassifier\n",
    "from sklearn.linear_model import LogisticRegression"
   ]
  },
  {
   "cell_type": "code",
   "execution_count": 2,
   "id": "c5dcc478",
   "metadata": {},
   "outputs": [],
   "source": [
    "logging.basicConfig(level=logging.INFO, format='%(asctime)s - %(levelname)s - %(message)s')\n"
   ]
  },
  {
   "cell_type": "code",
   "execution_count": 11,
   "id": "090af38a",
   "metadata": {},
   "outputs": [],
   "source": [
    "client = MlflowClient()\n",
    "mlflow.set_tracking_uri('http://127.0.0.1:5000')"
   ]
  },
  {
   "cell_type": "code",
   "execution_count": 12,
   "id": "4657560e",
   "metadata": {},
   "outputs": [],
   "source": [
    "all_runs = mlflow.search_runs(search_all_experiments=True)"
   ]
  },
  {
   "cell_type": "code",
   "execution_count": 13,
   "id": "7848df3a",
   "metadata": {},
   "outputs": [],
   "source": [
    "latest_exp_id = all_runs.experiment_id\n",
    "latest_exp_name = all_runs"
   ]
  },
  {
   "cell_type": "code",
   "execution_count": 15,
   "id": "78b8d9ce",
   "metadata": {},
   "outputs": [
    {
     "data": {
      "text/html": [
       "<div>\n",
       "<style scoped>\n",
       "    .dataframe tbody tr th:only-of-type {\n",
       "        vertical-align: middle;\n",
       "    }\n",
       "\n",
       "    .dataframe tbody tr th {\n",
       "        vertical-align: top;\n",
       "    }\n",
       "\n",
       "    .dataframe thead th {\n",
       "        text-align: right;\n",
       "    }\n",
       "</style>\n",
       "<table border=\"1\" class=\"dataframe\">\n",
       "  <thead>\n",
       "    <tr style=\"text-align: right;\">\n",
       "      <th></th>\n",
       "      <th>run_id</th>\n",
       "      <th>experiment_id</th>\n",
       "      <th>status</th>\n",
       "      <th>artifact_uri</th>\n",
       "      <th>start_time</th>\n",
       "      <th>end_time</th>\n",
       "    </tr>\n",
       "  </thead>\n",
       "  <tbody>\n",
       "  </tbody>\n",
       "</table>\n",
       "</div>"
      ],
      "text/plain": [
       "Empty DataFrame\n",
       "Columns: [run_id, experiment_id, status, artifact_uri, start_time, end_time]\n",
       "Index: []"
      ]
     },
     "execution_count": 15,
     "metadata": {},
     "output_type": "execute_result"
    }
   ],
   "source": [
    "latest_exp_name"
   ]
  },
  {
   "cell_type": "code",
   "execution_count": 16,
   "id": "20d00d36",
   "metadata": {},
   "outputs": [
    {
     "data": {
      "text/plain": [
       "[<Experiment: artifact_location='file:C:/Users/tomas/Documents/Projects/Diabetes_project/artifacts/0', creation_time=1752086389728, experiment_id='0', last_update_time=1752086389728, lifecycle_stage='active', name='Default', tags={}>]"
      ]
     },
     "execution_count": 16,
     "metadata": {},
     "output_type": "execute_result"
    }
   ],
   "source": [
    "experiments = client.search_experiments(view_type=mlflow.entities.ViewType.ALL)\n",
    "experiments"
   ]
  },
  {
   "cell_type": "code",
   "execution_count": 17,
   "id": "978a1d05",
   "metadata": {},
   "outputs": [
    {
     "data": {
      "text/plain": [
       "[<Experiment: artifact_location='file:C:/Users/tomas/Documents/Projects/Diabetes_project/artifacts/0', creation_time=1752086389728, experiment_id='0', last_update_time=1752086389728, lifecycle_stage='active', name='Default', tags={}>]"
      ]
     },
     "execution_count": 17,
     "metadata": {},
     "output_type": "execute_result"
    }
   ],
   "source": [
    "client.search_experiments(view_type=ViewType.ACTIVE_ONLY)"
   ]
  },
  {
   "cell_type": "code",
   "execution_count": null,
   "id": "9e6d7302",
   "metadata": {},
   "outputs": [
    {
     "name": "stdout",
     "output_type": "stream",
     "text": [
      "http://127.0.0.1:5000\n"
     ]
    }
   ],
   "source": [
    "print(mlflow.get_tracking_uri())"
   ]
  },
  {
   "cell_type": "code",
   "execution_count": 48,
   "id": "cbf25fa1",
   "metadata": {},
   "outputs": [
    {
     "data": {
      "text/plain": [
       "<Experiment: artifact_location='mlflow-artifacts:/8', creation_time=1751823938865, experiment_id='8', last_update_time=1751823938865, lifecycle_stage='active', name='classification_experiment_v4', tags={}>"
      ]
     },
     "execution_count": 48,
     "metadata": {},
     "output_type": "execute_result"
    }
   ],
   "source": [
    "experiments = client.search_experiments(view_type=mlflow.entities.ViewType.ALL)\n",
    "experiments_sorted = sorted(experiments, key=lambda x: x.creation_time, reverse=False)\n",
    "latest_experiment = experiments_sorted\n",
    "latest_experiment[-1]"
   ]
  },
  {
   "cell_type": "code",
   "execution_count": 49,
   "id": "ca5ffd81",
   "metadata": {},
   "outputs": [],
   "source": [
    "order = ['metrics.recall DESC',\t'metrics.f1_macro DESC', 'metrics.accuracy DESC']\n",
    "\n",
    "top_n = 4\n",
    "runs = client.search_runs(\n",
    "        experiment_ids=latest_experiment[-1].experiment_id,\n",
    "        run_view_type=ViewType.ACTIVE_ONLY,\n",
    "        max_results=top_n,\n",
    "        order_by=order\n",
    "    )"
   ]
  },
  {
   "cell_type": "code",
   "execution_count": 75,
   "id": "af358062",
   "metadata": {},
   "outputs": [],
   "source": [
    "best_run_id = runs[0].info.run_id\n",
    "best_run_name = runs[0].info.run_name\n",
    "best_metrics = runs[0].data.metrics\n",
    "best_params = runs[0].data.params\n",
    "best_model = runs[0].data.tags['Model']\n"
   ]
  },
  {
   "cell_type": "code",
   "execution_count": 63,
   "id": "01c3e264",
   "metadata": {},
   "outputs": [
    {
     "data": {
      "text/plain": [
       "<Run: data=<RunData: metrics={'accuracy': 0.7385052034058657,\n",
       " 'f1_macro': 0.6428998009326592,\n",
       " 'recall': 0.7234448795577519}, params={'bagging_temperature': '0.5747841229769519',\n",
       " 'border_count': '48',\n",
       " 'depth': '9',\n",
       " 'iterations': '500',\n",
       " 'l2_leaf_reg': '0.2246009819377022',\n",
       " 'learning_rate': '0.1785197460396047',\n",
       " 'loss_function': 'Logloss',\n",
       " 'random_seed': '42',\n",
       " 'random_strength': '0.17099029185236003',\n",
       " 'verbose': '0'}, tags={'Model': 'Catboost',\n",
       " 'mlflow.runName': 'lyrical-wren-154',\n",
       " 'mlflow.source.git.commit': 'fbe4afb8c6626d7aba190e51f6dfe8614c236887',\n",
       " 'mlflow.source.name': '.\\\\Model\\\\train.py',\n",
       " 'mlflow.source.type': 'LOCAL',\n",
       " 'mlflow.user': 'David'}>, info=<RunInfo: artifact_uri='mlflow-artifacts:/8/f33d92e405604e4fb4b56a82a9e4dff0/artifacts', end_time=1751823949393, experiment_id='8', lifecycle_stage='active', run_id='f33d92e405604e4fb4b56a82a9e4dff0', run_name='lyrical-wren-154', start_time=1751823943042, status='FINISHED', user_id='David'>, inputs=<RunInputs: dataset_inputs=[], model_inputs=[]>, outputs=<RunOutputs: model_outputs=[]>>"
      ]
     },
     "execution_count": 63,
     "metadata": {},
     "output_type": "execute_result"
    }
   ],
   "source": [
    "runs[0]"
   ]
  },
  {
   "cell_type": "code",
   "execution_count": 71,
   "id": "4e7ed366",
   "metadata": {},
   "outputs": [
    {
     "data": {
      "text/plain": [
       "{'f1_macro': 0.6428998009326592,\n",
       " 'accuracy': 0.7385052034058657,\n",
       " 'recall': 0.7234448795577519}"
      ]
     },
     "execution_count": 71,
     "metadata": {},
     "output_type": "execute_result"
    }
   ],
   "source": [
    "best_metrics"
   ]
  },
  {
   "cell_type": "code",
   "execution_count": 97,
   "id": "569b368f",
   "metadata": {},
   "outputs": [
    {
     "data": {
      "text/plain": [
       "{'bagging_temperature': '0.5747841229769519',\n",
       " 'border_count': '48',\n",
       " 'depth': '9',\n",
       " 'iterations': '500',\n",
       " 'l2_leaf_reg': '0.2246009819377022',\n",
       " 'learning_rate': '0.1785197460396047',\n",
       " 'loss_function': 'Logloss',\n",
       " 'random_seed': '42',\n",
       " 'random_strength': '0.17099029185236003',\n",
       " 'verbose': '0'}"
      ]
     },
     "execution_count": 97,
     "metadata": {},
     "output_type": "execute_result"
    }
   ],
   "source": [
    "best_params"
   ]
  },
  {
   "cell_type": "code",
   "execution_count": 98,
   "id": "73bca00d",
   "metadata": {},
   "outputs": [
    {
     "data": {
      "text/plain": [
       "'Catboost'"
      ]
     },
     "execution_count": 98,
     "metadata": {},
     "output_type": "execute_result"
    }
   ],
   "source": [
    "best_model"
   ]
  },
  {
   "cell_type": "code",
   "execution_count": 99,
   "id": "d7d5de3c",
   "metadata": {},
   "outputs": [],
   "source": [
    "def load_parquet(prefix: str):\n",
    "    input_dir = Path.cwd().parent / \"Data\"\n",
    "\n",
    "    X = pd.read_parquet(input_dir / f\"X_{prefix}.parquet\")\n",
    "    logging.info(f\"Loaded X from {input_dir / f'X_{prefix}.parquet'}\")\n",
    "\n",
    "    y = pd.read_parquet(input_dir / f\"y_{prefix}.parquet\").squeeze()\n",
    "    logging.info(f\"Loaded y from {input_dir / f'y_{prefix}_y.parquet'}\")\n",
    "\n",
    "    return X, y"
   ]
  },
  {
   "cell_type": "code",
   "execution_count": 106,
   "id": "19d91084",
   "metadata": {},
   "outputs": [],
   "source": [
    "def dict_change_dtypes(params):\n",
    "    parsed_params = {}\n",
    "    for k, v in params.items():\n",
    "        try:\n",
    "            parsed_val = eval(v)  # pozor, eval může být nebezpečný u nedůvěryhodných vstupů\n",
    "        except:\n",
    "            parsed_val = v\n",
    "\n",
    "        parsed_params[k] = parsed_val\n",
    "        \n",
    "    return parsed_params"
   ]
  },
  {
   "cell_type": "code",
   "execution_count": 120,
   "id": "1184bc9e",
   "metadata": {},
   "outputs": [],
   "source": [
    "def catboost_train(params):\n",
    "    X_train, y_train = load_parquet(prefix = 'train')\n",
    "    X_test, y_test = load_parquet(prefix = 'test')\n",
    "\n",
    "    categorical_features_indices = [X_train.columns.get_loc(col) for col in ['Age', 'GenHlth', 'Education', 'Income']]\n",
    "\n",
    "    params = dict_change_dtypes(params)\n",
    "    with mlflow.start_run() as run:\n",
    "        mlflow.set_tag('Model', 'Catboost')\n",
    "        mlflow.set_tag(\"Stage\", \"Final_model\")\n",
    "        mlflow.log_params(params)\n",
    "\n",
    "        model = CatBoostClassifier(\n",
    "            **params,\n",
    "            cat_features=categorical_features_indices,\n",
    "            early_stopping_rounds=50,\n",
    "            eval_metric='TotalF1'\n",
    "        )\n",
    "        model.fit(X_train, \n",
    "                  y_train, \n",
    "                  eval_set=(X_test, y_test), \n",
    "                  use_best_model=True, \n",
    "                  verbose=0)\n",
    "\n",
    "        y_pred = model.predict(X_test)  \n",
    "        # Logging important metrics\n",
    "        score = f1_score(y_test, y_pred, average='macro')\n",
    "        mlflow.log_metric('f1_macro', score)\n",
    "        print(classification_report(y_test, y_pred))    \n",
    "        accuracy = accuracy_score(y_test, y_pred)\n",
    "        mlflow.log_metric('accuracy', accuracy) \n",
    "        recall = recall_score(y_test, y_pred, average='macro')\n",
    "        mlflow.log_metric('recall', recall)\n",
    "\n",
    "        mlflow.catboost.log_model(model, artifact_path=\"model\")\n",
    "\n",
    "        run_id = run.info.run_id\n",
    "        model_uri = f\"runs:/{run_id}/model\"\n",
    "        mlflow.register_model(model_uri, name=\"final-catboost-model\")\n",
    "        logging.info(f'Best Catboost model has been logged into {model_uri}')\n",
    "\n"
   ]
  },
  {
   "cell_type": "code",
   "execution_count": 118,
   "id": "baf80ebc",
   "metadata": {},
   "outputs": [
    {
     "data": {
      "text/plain": [
       "<Experiment: artifact_location='mlflow-artifacts:/8', creation_time=1751823938865, experiment_id='8', last_update_time=1751823938865, lifecycle_stage='active', name='classification_experiment_v4', tags={}>"
      ]
     },
     "execution_count": 118,
     "metadata": {},
     "output_type": "execute_result"
    }
   ],
   "source": [
    "mlflow.set_experiment('classification_experiment_v4')"
   ]
  },
  {
   "cell_type": "code",
   "execution_count": 119,
   "id": "786f475f",
   "metadata": {},
   "outputs": [
    {
     "name": "stderr",
     "output_type": "stream",
     "text": [
      "2025-07-06 20:54:27,685 - INFO - Loaded X from c:\\Users\\tomas\\Documents\\Projects\\Diabetes_project\\Data\\X_train.parquet\n",
      "2025-07-06 20:54:27,687 - INFO - Loaded y from c:\\Users\\tomas\\Documents\\Projects\\Diabetes_project\\Data\\y_train_y.parquet\n",
      "2025-07-06 20:54:27,692 - INFO - Loaded X from c:\\Users\\tomas\\Documents\\Projects\\Diabetes_project\\Data\\X_test.parquet\n",
      "2025-07-06 20:54:27,696 - INFO - Loaded y from c:\\Users\\tomas\\Documents\\Projects\\Diabetes_project\\Data\\y_test_y.parquet\n"
     ]
    },
    {
     "name": "stdout",
     "output_type": "stream",
     "text": [
      "              precision    recall  f1-score   support\n",
      "\n",
      "           0       0.93      0.75      0.83    213703\n",
      "           1       0.34      0.70      0.46     39977\n",
      "\n",
      "    accuracy                           0.74    253680\n",
      "   macro avg       0.64      0.72      0.64    253680\n",
      "weighted avg       0.84      0.74      0.77    253680\n",
      "\n",
      "🏃 View run spiffy-snipe-633 at: http://127.0.0.1:5000/#/experiments/8/runs/aca2f3d42a7b48fea239f57a6e8ec630\n",
      "🧪 View experiment at: http://127.0.0.1:5000/#/experiments/8\n"
     ]
    }
   ],
   "source": [
    "catboost_train(best_params)"
   ]
  },
  {
   "cell_type": "code",
   "execution_count": 25,
   "id": "9c78baee",
   "metadata": {},
   "outputs": [],
   "source": [
    "mlflow.set_tracking_uri(\"http://127.0.0.1:5000\")"
   ]
  },
  {
   "cell_type": "code",
   "execution_count": 26,
   "id": "75ded6ed",
   "metadata": {},
   "outputs": [
    {
     "name": "stderr",
     "output_type": "stream",
     "text": [
      "2025-07-08 15:35:19,085 - INFO - Experiment \"classification_experiment_v9\" selected by partial match.\n"
     ]
    }
   ],
   "source": [
    "client = MlflowClient()\n",
    "experiments = client.search_experiments()\n",
    "partial_name = 'classification_experiment'\n",
    "matching_experiments = sorted(\n",
    "    [exp for exp in experiments if partial_name.lower() in exp.name.lower()],\n",
    "    key=lambda x: x.creation_time,\n",
    "    reverse=True\n",
    ")\n",
    "if matching_experiments:\n",
    "    mlflow.set_experiment(matching_experiments[0].name)\n",
    "    logging.info(f'Experiment \"{matching_experiments[0].name}\" selected by partial match.')\n",
    "else:\n",
    "    logging.warning(f'No experiment matched partial name \"{partial_name}\".')"
   ]
  },
  {
   "cell_type": "code",
   "execution_count": null,
   "id": "451bba3b",
   "metadata": {},
   "outputs": [],
   "source": [
    "register_models = client.search_registered_models()"
   ]
  },
  {
   "cell_type": "code",
   "execution_count": 30,
   "id": "56871739",
   "metadata": {},
   "outputs": [
    {
     "name": "stderr",
     "output_type": "stream",
     "text": [
      "C:\\Users\\tomas\\AppData\\Local\\Temp\\ipykernel_11360\\1760515223.py:2: FutureWarning: ``mlflow.tracking.client.MlflowClient.get_latest_versions`` is deprecated since 2.9.0. Model registry stages will be removed in a future major release. To learn more about the deprecation of model registry stages, see our migration guide here: https://mlflow.org/docs/latest/model-registry.html#migrating-from-stages\n",
      "  version = client.get_latest_versions(model_name)\n"
     ]
    }
   ],
   "source": [
    "model_name = 'final-xgboost-model'\n",
    "version = client.get_latest_versions(model_name)"
   ]
  },
  {
   "cell_type": "code",
   "execution_count": 45,
   "id": "51115721",
   "metadata": {},
   "outputs": [],
   "source": [
    "versions = client.search_model_versions(f\"name='{model_name}'\")\n",
    "version = versions[0].version"
   ]
  },
  {
   "cell_type": "code",
   "execution_count": 47,
   "id": "fb0e2be8",
   "metadata": {},
   "outputs": [
    {
     "data": {
      "text/plain": [
       "'8b475ef68f1c4493abbaf224814d5aa4'"
      ]
     },
     "execution_count": 47,
     "metadata": {},
     "output_type": "execute_result"
    }
   ],
   "source": [
    "version_id = versions[0].run_id\n",
    "version_id "
   ]
  },
  {
   "cell_type": "code",
   "execution_count": null,
   "id": "250c4081",
   "metadata": {},
   "outputs": [],
   "source": [
    "client.set_model_version_tag(model_name, version, \"validated_by\", \"QA\")\n",
    "client.set_model_version_tag(model_name, version, \"stage\", \"production\")   \n"
   ]
  },
  {
   "cell_type": "code",
   "execution_count": 49,
   "id": "7152e4b1",
   "metadata": {},
   "outputs": [],
   "source": [
    "client.set_registered_model_alias(name=model_name,alias=\"Champion\", version=version)"
   ]
  },
  {
   "cell_type": "code",
   "execution_count": 51,
   "id": "4ab92a3d",
   "metadata": {},
   "outputs": [],
   "source": [
    "client.set_model_version_tag(\n",
    "    name=model_name,\n",
    "    version=version,\n",
    "    key=\"created_by\",\n",
    "    value=\"David\"\n",
    ")"
   ]
  }
 ],
 "metadata": {
  "kernelspec": {
   "display_name": "Python 3",
   "language": "python",
   "name": "python3"
  },
  "language_info": {
   "codemirror_mode": {
    "name": "ipython",
    "version": 3
   },
   "file_extension": ".py",
   "mimetype": "text/x-python",
   "name": "python",
   "nbconvert_exporter": "python",
   "pygments_lexer": "ipython3",
   "version": "3.12.10"
  }
 },
 "nbformat": 4,
 "nbformat_minor": 5
}
